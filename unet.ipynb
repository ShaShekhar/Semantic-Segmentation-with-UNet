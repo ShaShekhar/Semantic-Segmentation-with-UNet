{
 "cells": [
  {
   "cell_type": "code",
   "execution_count": 8,
   "metadata": {},
   "outputs": [],
   "source": [
    "\"\"\"This code is written by Shashank Shekhar as a project done on Semantic Segmentation.\"\"\"\n",
    "import os  # To load the directory for reading the images and mask path\n",
    "import random # To generate random number\n",
    "import numpy as np # To create numpy array and perform some operation on them\n",
    "import cv2       # To read the images from disks\n",
    "import matplotlib.pyplot as plt # To read the images and masks from disks\n",
    "import tensorflow as tf # To perform neural network operation"
   ]
  },
  {
   "cell_type": "code",
   "execution_count": 7,
   "metadata": {},
   "outputs": [],
   "source": [
    "# Seeding\n",
    "seed = 2019\n",
    "random.seed = seed\n",
    "np.random.seed = seed\n",
    "tf.seed = seed"
   ]
  },
  {
   "cell_type": "code",
   "execution_count": 29,
   "metadata": {},
   "outputs": [],
   "source": [
    "# Data Generator\n",
    "class DataGen(tf.keras.utils.Sequence):\n",
    "    def __init__(self, ids, path, batch_size=8, image_size=128):\n",
    "        self.ids = ids # Name of directory which contain both images and masks directory\n",
    "        self.path = path # a path on your machine where data directory is located\n",
    "        self.batch_size = batch_size\n",
    "        self.image_size = image_size\n",
    "    def __load__(self, id_name): # To load every single images and mask\n",
    "        # Path\n",
    "        image_path = os.path.join(self.path, id_name, 'images', id_name) + '.png'\n",
    "        mask_path = os.path.join(self.path, id_name, 'masks/')\n",
    "        all_masks = os.listdir(mask_path)\n",
    "        # Reading image\n",
    "        # Since out image is in GrayScale form but we need image in 3 channel form\n",
    "        image = cv2.imread(image_path, 1) # Here 1 specify that image is loaded in form of BGR form\n",
    "        image = cv2.resize(image, (self.image_size,self.image_size)) # Resize the from 256 to 128\n",
    "        mask = np.zeros((self.image_size, self.image_size, 1)) # Create a image filled with zero for display the mask\n",
    "        # Reading Masks\n",
    "        for name in all_masks:\n",
    "            _mask_path = mask_path + name\n",
    "            _mask_image = cv2.imread(_mask_path, -1)\n",
    "            _mask_image = cv2.resize(_mask_image, (self.image_size, self.image_size))\n",
    "            _mask_image = np.expand_dims(_mask_image, axis=-1)\n",
    "            # Compare two arrays and returns a new array containing the element-wise maxima.\n",
    "            mask = np.maximum(mask, _mask_image)\n",
    "        # Normalize the both image and mask.    \n",
    "        image = image/255.0\n",
    "        mask = mask/255.0\n",
    "        return image, mask\n",
    "\n",
    "    def __getitem__(self, index):\n",
    "        files_batch = self.ids[index*self.batch_size:(index+1)*self.batch_size] # Take the batch of directories\n",
    "        image = []\n",
    "        mask = []\n",
    "        # pass each directory name to __load__() method, where we extract both image and masks and perform operations.\n",
    "        for id_name in files_batch:\n",
    "            _img, _mask = self.__load__(id_name)\n",
    "            image.append(_img)\n",
    "            mask.append(_mask)\n",
    "        image = np.array(image)\n",
    "        mask = np.array(mask)\n",
    "        return image, mask\n",
    "    \n",
    "    def __len__(self):\n",
    "        return int(np.ceil(len(self.ids)/float(self.batch_size)))"
   ]
  },
  {
   "cell_type": "code",
   "execution_count": 22,
   "metadata": {},
   "outputs": [
    {
     "name": "stdout",
     "output_type": "stream",
     "text": [
      "(8, 128, 128, 3) (8, 128, 128, 1)\n"
     ]
    }
   ],
   "source": [
    "# Hyperparameters\n",
    "image_size = 128\n",
    "train_path = '/home/shashank/Documents/kaggle_data/nuclei-data-bowl-2018/stage1_train'\n",
    "epochs = 5\n",
    "batch_size = 8\n",
    "# Training Ids\n",
    "train_ids = next(os.walk(train_path))[1]\n",
    "#print(train_ids)\n",
    "# Validation data size\n",
    "val_data_size = 10\n",
    "valid_ids = train_ids[:val_data_size]\n",
    "train_ids = train_ids[val_data_size:]\n",
    "\n",
    "gen = DataGen(train_ids, train_path, batch_size=batch_size, image_size=image_size)\n",
    "x, y = gen.__getitem__(0)\n",
    "print(x.shape, y.shape)"
   ]
  },
  {
   "cell_type": "code",
   "execution_count": 47,
   "metadata": {},
   "outputs": [
    {
     "data": {
      "image/png": "[encoded data removed]",
      "text/plain": [
       "<Figure size 432x288 with 2 Axes>"
      ]
     },
     "metadata": {
      "needs_background": "light"
     },
     "output_type": "display_data"
    }
   ],
   "source": [
    "r = random.randint(0, len(x)-1)\n",
    "fig = plt.figure()\n",
    "fig.subplots_adjust(hspace=0.4,wspace=0.4)\n",
    "ax = fig.add_subplot(1,2,1)\n",
    "ax.set_title('Image')\n",
    "ax.imshow(x[r])\n",
    "ax = fig.add_subplot(1,2,2)\n",
    "ax.set_title('Mask')\n",
    "ax.imshow(np.reshape(y[r], (image_size, image_size)),cmap='gray')\n",
    "plt.show()"
   ]
  },
  {
   "cell_type": "code",
   "execution_count": 26,
   "metadata": {},
   "outputs": [],
   "source": [
    "# Different Convolutional Blocks\n",
    "def down_block(x, filters, kernel_size=(3,3), padding='same', strides=1):\n",
    "    c = tf.keras.layers.Conv2D(filters, kernel_size, padding=padding, strides=strides, activation='relu')(x)\n",
    "    c = tf.keras.layers.Conv2D(filters, kernel_size, padding=padding, strides=strides, activation='relu')(c)\n",
    "    p = tf.keras.layers.MaxPool2D((2,2),(2,2))(c)\n",
    "    return c,p\n",
    "\n",
    "def up_block(x, skip, filters, kernel_size=(3,3), padding='same', strides=1):\n",
    "    us = tf.keras.layers.UpSampling2D((2,2))(x)\n",
    "    concat = tf.keras.layers.Concatenate()([us,skip])\n",
    "    c = tf.keras.layers.Conv2D(filters, kernel_size, padding=padding, strides=strides, activation='relu')(concat)\n",
    "    c = tf.keras.layers.Conv2D(filters, kernel_size, padding=padding, strides=strides, activation='relu')(concat)\n",
    "    return c\n",
    "\n",
    "def bottleneck(x, filters, kernel_size=(3,3), padding='same', strides=1):\n",
    "    c = tf.keras.layers.Conv2D(filters, kernel_size, padding=padding, strides=strides, activation='relu')(x)\n",
    "    c = tf.keras.layers.Conv2D(filters, kernel_size, padding=padding, strides=strides, activation='relu')(c)\n",
    "    return c\n",
    "\n",
    "# UNet Model\n",
    "def UNet():\n",
    "    f = [16,32,64,128,256]\n",
    "    inputs = tf.keras.layers.Input((image_size,image_size,3))\n",
    "    p0 = inputs\n",
    "    c1, p1 = down_block(p0, f[0]) # 128 -> 64\n",
    "    c2, p2 = down_block(p1, f[1]) # 64 -> 32\n",
    "    c3, p3 = down_block(p2, f[2]) # 32 -> 16\n",
    "    c4, p4 = down_block(p3, f[3]) # 16 -> 8\n",
    "\n",
    "    bn = bottleneck(p4, f[4])\n",
    "\n",
    "    u1 = up_block(bn, c4, f[3]) # 8 -> 16\n",
    "    u2 = up_block(u1, c3, f[2]) # 16 -> 32\n",
    "    u3 = up_block(u2, c2, f[1]) # 32 -> 64\n",
    "    u4 = up_block(u3, c1, f[0]) # 64 -> 128\n",
    "\n",
    "    outputs = tf.keras.layers.Conv2D(1, (1,1), padding='same', activation='sigmoid')(u4)\n",
    "    model = tf.keras.models.Model(inputs, outputs)\n",
    "    return model"
   ]
  },
  {
   "cell_type": "code",
   "execution_count": 27,
   "metadata": {},
   "outputs": [
    {
     "name": "stdout",
     "output_type": "stream",
     "text": [
      "__________________________________________________________________________________________________\n",
      "Layer (type)                    Output Shape         Param #     Connected to                     \n",
      "==================================================================================================\n",
      "input_2 (InputLayer)            (None, 128, 128, 3)  0                                            \n",
      "__________________________________________________________________________________________________\n",
      "conv2d_19 (Conv2D)              (None, 128, 128, 16) 448         input_2[0][0]                    \n",
      "__________________________________________________________________________________________________\n",
      "conv2d_20 (Conv2D)              (None, 128, 128, 16) 2320        conv2d_19[0][0]                  \n",
      "__________________________________________________________________________________________________\n",
      "max_pooling2d_4 (MaxPooling2D)  (None, 64, 64, 16)   0           conv2d_20[0][0]                  \n",
      "__________________________________________________________________________________________________\n",
      "conv2d_21 (Conv2D)              (None, 64, 64, 32)   4640        max_pooling2d_4[0][0]            \n",
      "__________________________________________________________________________________________________\n",
      "conv2d_22 (Conv2D)              (None, 64, 64, 32)   9248        conv2d_21[0][0]                  \n",
      "__________________________________________________________________________________________________\n",
      "max_pooling2d_5 (MaxPooling2D)  (None, 32, 32, 32)   0           conv2d_22[0][0]                  \n",
      "__________________________________________________________________________________________________\n",
      "conv2d_23 (Conv2D)              (None, 32, 32, 64)   18496       max_pooling2d_5[0][0]            \n",
      "__________________________________________________________________________________________________\n",
      "conv2d_24 (Conv2D)              (None, 32, 32, 64)   36928       conv2d_23[0][0]                  \n",
      "__________________________________________________________________________________________________\n",
      "max_pooling2d_6 (MaxPooling2D)  (None, 16, 16, 64)   0           conv2d_24[0][0]                  \n",
      "__________________________________________________________________________________________________\n",
      "conv2d_25 (Conv2D)              (None, 16, 16, 128)  73856       max_pooling2d_6[0][0]            \n",
      "__________________________________________________________________________________________________\n",
      "conv2d_26 (Conv2D)              (None, 16, 16, 128)  147584      conv2d_25[0][0]                  \n",
      "__________________________________________________________________________________________________\n",
      "max_pooling2d_7 (MaxPooling2D)  (None, 8, 8, 128)    0           conv2d_26[0][0]                  \n",
      "__________________________________________________________________________________________________\n",
      "conv2d_27 (Conv2D)              (None, 8, 8, 256)    295168      max_pooling2d_7[0][0]            \n",
      "__________________________________________________________________________________________________\n",
      "conv2d_28 (Conv2D)              (None, 8, 8, 256)    590080      conv2d_27[0][0]                  \n",
      "__________________________________________________________________________________________________\n",
      "up_sampling2d_4 (UpSampling2D)  (None, 16, 16, 256)  0           conv2d_28[0][0]                  \n",
      "__________________________________________________________________________________________________\n",
      "concatenate_4 (Concatenate)     (None, 16, 16, 384)  0           up_sampling2d_4[0][0]            \n",
      "                                                                 conv2d_26[0][0]                  \n",
      "__________________________________________________________________________________________________\n",
      "conv2d_30 (Conv2D)              (None, 16, 16, 128)  442496      concatenate_4[0][0]              \n",
      "__________________________________________________________________________________________________\n",
      "up_sampling2d_5 (UpSampling2D)  (None, 32, 32, 128)  0           conv2d_30[0][0]                  \n",
      "__________________________________________________________________________________________________\n",
      "concatenate_5 (Concatenate)     (None, 32, 32, 192)  0           up_sampling2d_5[0][0]            \n",
      "                                                                 conv2d_24[0][0]                  \n",
      "__________________________________________________________________________________________________\n",
      "conv2d_32 (Conv2D)              (None, 32, 32, 64)   110656      concatenate_5[0][0]              \n",
      "__________________________________________________________________________________________________\n",
      "up_sampling2d_6 (UpSampling2D)  (None, 64, 64, 64)   0           conv2d_32[0][0]                  \n",
      "__________________________________________________________________________________________________\n",
      "concatenate_6 (Concatenate)     (None, 64, 64, 96)   0           up_sampling2d_6[0][0]            \n",
      "                                                                 conv2d_22[0][0]                  \n",
      "__________________________________________________________________________________________________\n",
      "conv2d_34 (Conv2D)              (None, 64, 64, 32)   27680       concatenate_6[0][0]              \n",
      "__________________________________________________________________________________________________\n",
      "up_sampling2d_7 (UpSampling2D)  (None, 128, 128, 32) 0           conv2d_34[0][0]                  \n",
      "__________________________________________________________________________________________________\n",
      "concatenate_7 (Concatenate)     (None, 128, 128, 48) 0           up_sampling2d_7[0][0]            \n",
      "                                                                 conv2d_20[0][0]                  \n",
      "__________________________________________________________________________________________________\n",
      "conv2d_36 (Conv2D)              (None, 128, 128, 16) 6928        concatenate_7[0][0]              \n",
      "__________________________________________________________________________________________________\n",
      "conv2d_37 (Conv2D)              (None, 128, 128, 1)  17          conv2d_36[0][0]                  \n",
      "==================================================================================================\n",
      "Total params: 1,766,545\n",
      "Trainable params: 1,766,545\n",
      "Non-trainable params: 0\n",
      "__________________________________________________________________________________________________\n",
      "None\n"
     ]
    }
   ],
   "source": [
    "model = UNet()\n",
    "model.compile(optimizer='adam', loss='binary_crossentropy', metrics=['acc'])\n",
    "print(model.summary())"
   ]
  },
  {
   "cell_type": "code",
   "execution_count": 30,
   "metadata": {},
   "outputs": [
    {
     "name": "stdout",
     "output_type": "stream",
     "text": [
      "Epoch 1/5\n",
      "82/82 [==============================] - 102s 1s/step - loss: 0.3989 - acc: 0.8461 - val_loss: 0.2390 - val_acc: 0.8548\n",
      "Epoch 2/5\n",
      "82/82 [==============================] - 139s 2s/step - loss: 0.2007 - acc: 0.9006 - val_loss: 0.1814 - val_acc: 0.9158\n",
      "Epoch 3/5\n",
      "82/82 [==============================] - 87s 1s/step - loss: 0.1242 - acc: 0.9372 - val_loss: 0.0990 - val_acc: 0.9461\n",
      "Epoch 4/5\n",
      "82/82 [==============================] - 79s 961ms/step - loss: 0.1062 - acc: 0.9434 - val_loss: 0.0995 - val_acc: 0.9473\n",
      "Epoch 5/5\n",
      "82/82 [==============================] - 78s 952ms/step - loss: 0.0898 - acc: 0.9497 - val_loss: 0.1016 - val_acc: 0.9456\n"
     ]
    },
    {
     "data": {
      "text/plain": [
       "<tensorflow.python.keras.callbacks.History at 0x7fee732fd828>"
      ]
     },
     "execution_count": 30,
     "metadata": {},
     "output_type": "execute_result"
    }
   ],
   "source": [
    "train_gen = DataGen(train_ids, train_path, image_size=image_size, batch_size=batch_size)\n",
    "valid_gen = DataGen(valid_ids, train_path, image_size=image_size, batch_size=batch_size)\n",
    "\n",
    "train_steps = len(train_ids)//batch_size\n",
    "valid_steps = len(valid_ids)//batch_size\n",
    "\n",
    "model.fit_generator(train_gen, validation_data=valid_gen, steps_per_epoch=train_steps, validation_steps=valid_steps, epochs=epochs)"
   ]
  },
  {
   "cell_type": "code",
   "execution_count": 56,
   "metadata": {},
   "outputs": [
    {
     "name": "stdout",
     "output_type": "stream",
     "text": [
      "(8, 128, 128, 3)\n",
      "(8, 128, 128, 1)\n"
     ]
    },
    {
     "data": {
      "image/png": "[encoded data removed]",
      "text/plain": [
       "<Figure size 432x288 with 2 Axes>"
      ]
     },
     "metadata": {
      "needs_background": "light"
     },
     "output_type": "display_data"
    }
   ],
   "source": [
    "# Testing the model\n",
    "# Dataset for prediction\n",
    "x, y = valid_gen.__getitem__(0)\n",
    "print(x.shape)\n",
    "result = model.predict(x)\n",
    "print(result.shape)\n",
    "result = result > 0.5\n",
    "\n",
    "fig = plt.figure()\n",
    "fig.subplots_adjust(hspace=0.4, wspace=0.4)\n",
    "ax = fig.add_subplot(1,2,1)\n",
    "ax.set_title('Test image')\n",
    "ax.imshow(np.reshape(y[0]*255, (image_size, image_size)), cmap='gray')\n",
    "ax = fig.add_subplot(1,2,2)\n",
    "ax.set_title('Predicted image')\n",
    "ax.imshow(np.reshape(result[0]*255, (image_size, image_size)), cmap='gray')\n",
    "plt.show()"
   ]
  }
 ],
 "metadata": {
  "kernelspec": {
   "display_name": "Python 3",
   "language": "python",
   "name": "python3"
  },
  "language_info": {
   "codemirror_mode": {
    "name": "ipython",
    "version": 3
   },
   "file_extension": ".py",
   "mimetype": "text/x-python",
   "name": "python",
   "nbconvert_exporter": "python",
   "pygments_lexer": "ipython3",
   "version": "3.5.6"
  }
 },
 "nbformat": 4,
 "nbformat_minor": 2
}
